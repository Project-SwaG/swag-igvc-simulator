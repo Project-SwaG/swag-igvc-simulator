{
  "cells": [
    {
      "cell_type": "markdown",
      "metadata": {
        "colab_type": "text",
        "id": "iAQT9ezGUvuz"
      },
      "source": [
        "# Please use this notebook to train your model"
      ]
    },
    {
      "cell_type": "code",
      "execution_count": null,
      "metadata": {
        "colab": {},
        "colab_type": "code",
        "id": "qfg14DJ9Pkw5"
      },
      "outputs": [],
      "source": [
        "from google.colab import drive\n",
        "drive.mount('/content/drive')"
      ]
    },
    {
      "cell_type": "markdown",
      "metadata": {
        "colab_type": "text",
        "id": "q7kQ-r_UU7rA"
      },
      "source": [
        "Clone your igvc-software repository"
      ]
    },
    {
      "cell_type": "code",
      "execution_count": null,
      "metadata": {
        "colab": {},
        "colab_type": "code",
        "id": "HCm8Y4JoP4X9"
      },
      "outputs": [],
      "source": [
        "%cd /content/drive/My Drive/\n",
        "! git clone https://github.com/Project-SwaG/swag-igvc-simulator.git"
      ]
    },
    {
      "cell_type": "markdown",
      "metadata": {
        "colab_type": "text",
        "id": "EdjXKdWnVBEb"
      },
      "source": [
        "Switch to your branch"
      ]
    },
    {
      "cell_type": "code",
      "execution_count": null,
      "metadata": {
        "colab": {},
        "colab_type": "code",
        "id": "49QzKDR7SLiu"
      },
      "outputs": [],
      "source": [
        "%cd /content/drive/My Drive/swag-igvc-simulator\n",
        "! git checkout igvc_nn_tb"
      ]
    },
    {
      "cell_type": "markdown",
      "metadata": {
        "colab_type": "text",
        "id": "UpMuFTtNVGR5"
      },
      "source": [
        "Run your training code"
      ]
    },
    {
      "cell_type": "code",
      "execution_count": null,
      "metadata": {
        "colab": {},
        "colab_type": "code",
        "id": "vG4r5gWcQO3E"
      },
      "outputs": [],
      "source": [
        "%cd /content/drive/My Drive/swag-igvc-simulator/swag_perception/src/train_eval\n",
        "!python \"/content/drive/My Drive/swag-igvc-simulator/swag_perception/src/train_eval/train.py\" --epoch 100 --save_model --save_interval 10"
      ]
    }
  ],
  "metadata": {
    "colab": {
      "name": "igvc-unet.ipynb",
      "provenance": []
    },
    "kernelspec": {
      "display_name": "Python 3",
      "name": "python3"
    }
  },
  "nbformat": 4,
  "nbformat_minor": 0
}
